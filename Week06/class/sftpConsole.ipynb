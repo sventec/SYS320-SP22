{
 "cells": [
  {
   "cell_type": "code",
   "execution_count": 3,
   "metadata": {},
   "outputs": [],
   "source": [
    "import paramiko\n",
    "from getpass import getpass\n",
    "\n",
    "# Create the password prompt\n",
    "thePass = getpass(prompt=\"Please enter your SSH password: \")\n",
    "\n",
    "# Host information\n",
    "host = \"ubserv.fx.local\"\n",
    "port = 22\n",
    "username = \"reed\"\n",
    "password = thePass\n",
    "\n",
    "try:\n",
    "    ssh = paramiko.SSHClient()\n",
    "    ssh.set_missing_host_key_policy(paramiko.AutoAddPolicy())\n",
    "    ssh.connect(host, port, username, password)\n",
    "\n",
    "except paramiko.AuthenticationException:\n",
    "    print(\"Authentication failed.\")"
   ]
  },
  {
   "cell_type": "code",
   "execution_count": 5,
   "metadata": {},
   "outputs": [],
   "source": [
    "sftp = ssh.open_sftp()\n",
    "\n",
    "# List of files to download\n",
    "files = [\"/etc/hosts\", \"/etc/passwd\", \"/var/log/auth.log\"]\n",
    "\n",
    "# Loop through the files and download them\n",
    "for eachFile in files:\n",
    "    \n",
    "    # Create a list from the filename\n",
    "    x = eachFile.split(\"/\")\n",
    "    \n",
    "    # -1 is used to get the last element\n",
    "    filename = x[-1]\n",
    "    \n",
    "    # Local path to store files\n",
    "    local_path = \"remote_files/\" + filename\n",
    "    \n",
    "    sftp.get(eachFile, local_path)\n",
    "\n",
    "ssh.close()"
   ]
  }
 ],
 "metadata": {
  "interpreter": {
   "hash": "2be5faf79681da6f2a61fdfdd5405d65d042280f7fba6178067603e3a2925119"
  },
  "kernelspec": {
   "display_name": "Python 3.10.2 64-bit",
   "language": "python",
   "name": "python3"
  },
  "language_info": {
   "codemirror_mode": {
    "name": "ipython",
    "version": 3
   },
   "file_extension": ".py",
   "mimetype": "text/x-python",
   "name": "python",
   "nbconvert_exporter": "python",
   "pygments_lexer": "ipython3",
   "version": "3.10.2"
  },
  "orig_nbformat": 4
 },
 "nbformat": 4,
 "nbformat_minor": 2
}
