{
 "cells": [
  {
   "cell_type": "markdown",
   "metadata": {},
   "source": [
    "# 'ThugStyle' Threat Hunt"
   ]
  },
  {
   "cell_type": "code",
   "execution_count": 89,
   "metadata": {},
   "outputs": [],
   "source": [
    "# Import required libraries\n",
    "import paramiko\n",
    "from datetime import datetime\n",
    "from getpass import getpass\n",
    "import os\n",
    "import re"
   ]
  },
  {
   "cell_type": "code",
   "execution_count": 90,
   "metadata": {},
   "outputs": [
    {
     "name": "stdout",
     "output_type": "stream",
     "text": [
      "[-] Connecting via SSH to reed.simon@192.168.6.71:2222...\n",
      "[-] Connection established.\n"
     ]
    }
   ],
   "source": [
    "# Create an SSH connection with the remote server.\n",
    "\n",
    "# Host information\n",
    "host = \"192.168.6.71\"\n",
    "port = 2222\n",
    "username = \"reed.simon\"\n",
    "\n",
    "print(f\"[-] Connecting via SSH to {username}@{host}:{port}...\")\n",
    "\n",
    "# Create the password prompt\n",
    "thePass = getpass(prompt=\"[+] Please enter your SSH password: \")\n",
    "password = thePass\n",
    "\n",
    "try:\n",
    "    ssh = paramiko.SSHClient()\n",
    "    ssh.set_missing_host_key_policy(paramiko.AutoAddPolicy())\n",
    "    ssh.connect(host, port, username, password)\n",
    "    print(\"[-] Connection established.\")\n",
    "\n",
    "except paramiko.AuthenticationException:\n",
    "    print(\"[!] Authentication failed.\")"
   ]
  },
  {
   "cell_type": "code",
   "execution_count": 91,
   "metadata": {},
   "outputs": [
    {
     "name": "stdout",
     "output_type": "stream",
     "text": [
      "[-] Skipping kraken upload, binary already exists.\n"
     ]
    }
   ],
   "source": [
    "# Upload kraken to the remote host\n",
    "\n",
    "sftp = ssh.open_sftp()\n",
    "\n",
    "# Check if the file already exists\n",
    "try:\n",
    "    sftp.stat(\"/home/reed.simon/kraken\")\n",
    "    print(\"[-] Skipping kraken upload, binary already exists.\")\n",
    "except IOError:\n",
    "    # The file does not exist because we cannot stat it\n",
    "    # Therefore, copy the file to the remote host\n",
    "    print(\"[-] Uploading kraken to the remote host...\")\n",
    "    sftp.put(\"./kraken\", \"/home/reed.simon/kraken\")\n",
    "    print(\"[-] Upload successful\")\n",
    "\n",
    "# sftp.close()"
   ]
  },
  {
   "cell_type": "code",
   "execution_count": 92,
   "metadata": {},
   "outputs": [
    {
     "name": "stdout",
     "output_type": "stream",
     "text": [
      "[-] Running kraken on the remote host...\n",
      "[-] Execution of kraken completed\n"
     ]
    }
   ],
   "source": [
    "# Run the kraken script on the remote server\n",
    "\n",
    "# Make kraken script executable\n",
    "ssh.exec_command(\"chmod +x /home/reed.simon/kraken\")\n",
    "\n",
    "# Command to use when running kraken\n",
    "kraken_command = \"sudo -S /home/reed.simon/kraken --folder /usr/bin --folder  --folder /usr/sbin/   --folder /usr/local/bin  --folder /sbin  --folder /usr/local/sbin  --folder /bin\"\n",
    "\n",
    "# Run and get the output from kraken\n",
    "print(\"[-] Running kraken on the remote host...\")\n",
    "stdin, stdout, stderr = ssh.exec_command(kraken_command)\n",
    "\n",
    "# For running command with sudo, user password must be entered\n",
    "stdin.write(password + \"\\n\")\n",
    "\n",
    "# Get results from stdout\n",
    "lines = stdout.readlines()\n",
    "\n",
    "print(\"[-] Execution of kraken completed\")"
   ]
  },
  {
   "cell_type": "code",
   "execution_count": 93,
   "metadata": {},
   "outputs": [],
   "source": [
    "# Write output to logfile with timestamp\n",
    "def write_log(service, output):\n",
    "    print(f\"[-] Writing kraken output to logfile {service}_output.txt\")\n",
    "    with open(f\"{service}_output.txt\", \"a\") as f:\n",
    "        f.write(f\"\\n### {service} output - \")\n",
    "        f.write(datetime.now().strftime(\"%Y-%m-%d %H:%M:%S\") + \" ###\\n\")\n",
    "        f.write(output)"
   ]
  },
  {
   "cell_type": "code",
   "execution_count": 94,
   "metadata": {},
   "outputs": [
    {
     "name": "stdout",
     "output_type": "stream",
     "text": [
      "[-] Writing kraken output to logfile kraken_output.txt\n"
     ]
    }
   ],
   "source": [
    "# Write kraken logfile\n",
    "\n",
    "# Remove ANSI escape sequences from output\n",
    "# Credit for regex:\n",
    "# https://stackoverflow.com/questions/14693701/how-can-i-remove-the-ansi-escape-sequences-from-a-string-in-python\n",
    "ansi_escape = re.compile(r'\\x1B(?:[@-Z\\\\-_]|\\[[0-?]*[ -/]*[@-~])')\n",
    "output = ansi_escape.sub(\"\", \"\".join(lines))\n",
    "\n",
    "# Write output to a logfile\n",
    "write_log(\"kraken\", output)"
   ]
  },
  {
   "cell_type": "code",
   "execution_count": 95,
   "metadata": {},
   "outputs": [
    {
     "name": "stdout",
     "output_type": "stream",
     "text": [
      "[-] Detected 1 process(es) with pid(s) [3138]\n"
     ]
    }
   ],
   "source": [
    "# Get only pids for detected processes to pipe into lsof\n",
    "\n",
    "# Match on pid (as a capture group), if lookahead does not find process snapd\n",
    "pids = re.findall(r\"pid=(\\d+)(?!.*snapd)\", output)\n",
    "\n",
    "print(f\"[-] Detected {len(pids)} process(es) with pid(s) {list(map(int, pids))}\")"
   ]
  },
  {
   "cell_type": "code",
   "execution_count": 96,
   "metadata": {},
   "outputs": [
    {
     "name": "stdout",
     "output_type": "stream",
     "text": [
      "[-] Getting list of open files for 1 process(es)...\n",
      "[-] Writing kraken output to logfile lsof_output.txt\n"
     ]
    }
   ],
   "source": [
    "# Run lsof on detected processes\n",
    "print(f\"[-] Getting list of open files for {len(pids)} process(es)...\")\n",
    "\n",
    "lsof_command = f\"sudo -S lsof -p {','.join(pids)}\"\n",
    "\n",
    "# Run and get the output from lsof\n",
    "stdin, stdout, stderr = ssh.exec_command(lsof_command)\n",
    "\n",
    "# For running command with sudo, user password must be entered\n",
    "stdin.write(password + \"\\n\")\n",
    "\n",
    "lsof_output = \"\".join(stdout.readlines())\n",
    "\n",
    "# Write output to a logfile\n",
    "write_log(\"lsof\", lsof_output)"
   ]
  },
  {
   "cell_type": "code",
   "execution_count": 98,
   "metadata": {},
   "outputs": [
    {
     "name": "stdout",
     "output_type": "stream",
     "text": [
      "[-] Checking for suspicious usernames in lsof output\n",
      "[!] Suspicious username found in lsof output: p.dalton\n",
      "[-] Skipping file /usr/local/bin/ls, already downloaded\n",
      "[-] Skipping file /home/p.dalton/test-lk/.d.log, already downloaded\n",
      "[-] Skipping file /home/p.dalton/test-lk/.d.log, already downloaded\n",
      "[-] Skipping file /home/p.dalton/test-lk/d.pid, already downloaded\n",
      "[-] Download(s) complete\n"
     ]
    }
   ],
   "source": [
    "# Process lsof output to check for x.xxxxx usernames\n",
    "print(\"[-] Checking for suspicious usernames in lsof output\")\n",
    "\n",
    "# Create ThugStyle username format regex\n",
    "thugstyle_username = re.compile(r\"^[A-Za-z]\\.[A-Za-z]+\")\n",
    "\n",
    "sus_usernames = []\n",
    "\n",
    "# Create output directory if it doesn't exist\n",
    "if not os.path.exists(\"./output\"):\n",
    "    os.mkdir(\"output\")\n",
    "\n",
    "# Iterate through lsof output to check for usernames\n",
    "for line in lsof_output.splitlines():\n",
    "    # Match on suspicious username pattern\n",
    "    if re.search(thugstyle_username, line.split()[2]):\n",
    "        fields = line.split()\n",
    "        # Check for presence of username in the list, to avoid duplicate output\n",
    "        if fields[2] not in sus_usernames:\n",
    "            print(f\"[!] Suspicious username found in lsof output: {fields[2]}\")\n",
    "            sus_usernames.append(fields[2])\n",
    "        # Check lsof entry for download requirements\n",
    "        if fields[3] != \"DEL\" and fields[4] == \"REG\":\n",
    "            out_filename = \"output/\" + fields[8].split('/')[-1]\n",
    "            # Check that file hasn't already been downloaded\n",
    "            if not os.path.exists(out_filename):\n",
    "                print(f\"[!] Downloading suspicious file: {fields[8]}\")\n",
    "                sftp.get(fields[8], out_filename)\n",
    "            else:\n",
    "                print(f\"[-] Skipping file {fields[8]}, already downloaded\")\n",
    "\n",
    "print(\"[-] Download(s) complete\")"
   ]
  },
  {
   "cell_type": "code",
   "execution_count": 99,
   "metadata": {},
   "outputs": [
    {
     "name": "stdout",
     "output_type": "stream",
     "text": [
      "[-] Running command: ps aux\n",
      "p.dalton    3025  0.0  0.1  18408 18352 ?        Ss   Feb26   0:00 /lib/systemd/systemd --user\n",
      "p.dalton    3027  0.0  0.6 104268 104256 ?       S    Feb26   0:00 (sd-pam)\n",
      "p.dalton    3138  0.0  0.0 1003532 4892 ?        Ssl  Feb26   0:01 [go-daemon sample]\n",
      "[-] Running command: cat /etc/passwd\n",
      "p.dalton:x:1001:1001::/home/p.dalton:/bin/bash\n",
      "[-] Running command: sudo -S cat /var/log/auth.log\n",
      "Mar  7 00:42:48 sys320 sudo: reed.simon : TTY=unknown ; PWD=/home/reed.simon ; USER=root ; COMMAND=/usr/local/bin/ls -la /home/p.dalton\n",
      "Mar  7 00:42:49 sys320 sudo: reed.simon : TTY=unknown ; PWD=/home/reed.simon ; USER=root ; COMMAND=/usr/local/bin/ls -la /home/g.yaml\n",
      "Mar  7 00:44:44 sys320 sudo: reed.simon : TTY=unknown ; PWD=/home/reed.simon ; USER=root ; COMMAND=/usr/local/bin/ls -la /home/p.dalton\n",
      "Mar  7 00:44:44 sys320 sudo: reed.simon : TTY=unknown ; PWD=/home/reed.simon ; USER=root ; COMMAND=/usr/local/bin/ls -la /home/g.yaml\n"
     ]
    }
   ],
   "source": [
    "# Check other locations on the system for ThugStyle activity\n",
    "search_commands = [\"ps aux\", \"cat /etc/passwd\", \"sudo -S cat /var/log/auth.log\"]\n",
    "\n",
    "# Redefine thugstyle regex to work with multi-field lines\n",
    "thugstyle_username = re.compile(r\"(^|[^A-Za-z])([A-Za-z]\\.[A-Za-z]+)\")\n",
    "\n",
    "for command in search_commands:\n",
    "    # Print command being run\n",
    "    print(f\"[-] Running command: {command}\")\n",
    "    \n",
    "    # Run and get the output for each command\n",
    "    stdin, stdout, stderr = ssh.exec_command(command)\n",
    "    \n",
    "    # Enter password if command uses sudo\n",
    "    if \"sudo\" in command:\n",
    "        stdin.write(password + \"\\n\")\n",
    "    \n",
    "    command_output = \"\".join(stdout.readlines())\n",
    "\n",
    "    # Trim output to only results related to ThugStyle users\n",
    "    thugstyle = re.findall(thugstyle_username, output)\n",
    "\n",
    "    for thug in thugstyle:\n",
    "        if thug not in sus_usernames:\n",
    "            print(f\"[!] Suspicious username found: {thug}\")\n",
    "            sus_usernames.append(thug)\n",
    "\n",
    "    # Output full suspicious line\n",
    "    for line in command_output.splitlines():\n",
    "        if re.search(thugstyle_username, line):\n",
    "            print(line)"
   ]
  },
  {
   "cell_type": "code",
   "execution_count": 100,
   "metadata": {},
   "outputs": [
    {
     "name": "stdout",
     "output_type": "stream",
     "text": [
      "[-] Listing contents of home directory for p.dalton\n",
      "total 524\n",
      "drwxr-xr-x  4 p.dalton p.dalton   4096 Mar  3 15:18 .\n",
      "drwxr-xr-x 43 root     root       4096 Mar  6 17:06 ..\n",
      "-rwxr-xr-x  1 p.dalton p.dalton     96 Feb 27 01:17 .bash_history\n",
      "drwxr-xr-x  2 p.dalton p.dalton   4096 Feb 26 23:50 .cache\n",
      "-rwxr-xr-x  1 p.dalton p.dalton    170 Mar  3 15:18 .d.log\n",
      "-rwxr-xr-x  1 p.dalton p.dalton 511476 Feb 18 15:42 aqwerpuqwerj\n",
      "drwxr-xr-x  2 p.dalton p.dalton   4096 Feb 26 23:54 test-lk\n",
      "\n"
     ]
    }
   ],
   "source": [
    "# List contents of suspicious user's home directories\n",
    "for username in sus_usernames:\n",
    "    print(f\"[-] Listing contents of home directory for {username}\")\n",
    "    stdin, stdout, stderr = ssh.exec_command(f\"/usr/bin/ls -la /home/{username}\")\n",
    "    print(\"\".join(stdout.readlines()))"
   ]
  },
  {
   "cell_type": "code",
   "execution_count": 101,
   "metadata": {},
   "outputs": [],
   "source": [
    "# Close the SSH session\n",
    "ssh.close()"
   ]
  }
 ],
 "metadata": {
  "interpreter": {
   "hash": "2be5faf79681da6f2a61fdfdd5405d65d042280f7fba6178067603e3a2925119"
  },
  "kernelspec": {
   "display_name": "Python 3.10.2 64-bit",
   "language": "python",
   "name": "python3"
  },
  "language_info": {
   "codemirror_mode": {
    "name": "ipython",
    "version": 3
   },
   "file_extension": ".py",
   "mimetype": "text/x-python",
   "name": "python",
   "nbconvert_exporter": "python",
   "pygments_lexer": "ipython3",
   "version": "3.10.2"
  },
  "orig_nbformat": 4
 },
 "nbformat": 4,
 "nbformat_minor": 2
}
