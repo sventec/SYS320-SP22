{
 "cells": [
  {
   "cell_type": "code",
   "execution_count": 1,
   "metadata": {},
   "outputs": [],
   "source": [
    "# Import required libraries\n",
    "import paramiko\n",
    "from getpass import getpass\n",
    "import os\n",
    "import sys\n",
    "\n",
    "# Define results flie name\n",
    "RESULTS_FILENAME = \"results.txt\""
   ]
  },
  {
   "cell_type": "code",
   "execution_count": null,
   "metadata": {},
   "outputs": [],
   "source": [
    "# Check to see if results file already exists\n",
    "if os.path.exists(RESULTS_FILENAME):\n",
    "    if input(\"\\nWARNING: The file \" + RESULTS_FILENAME + \" already exists. Press Y to overwrite it, or any other key to quit.\").lower() == \"y\":\n",
    "        os.remove(RESULTS_FILENAME)\n",
    "    else:\n",
    "        print(\"\\nExiting...\")\n",
    "        sys.exit()"
   ]
  },
  {
   "cell_type": "code",
   "execution_count": 8,
   "metadata": {},
   "outputs": [],
   "source": [
    "\n",
    "# Create the password prompt\n",
    "thePass = getpass(prompt=\"Please enter your SSH password: \")\n",
    "\n",
    "# Host information\n",
    "host = \"ubserv.fx.local\"\n",
    "port = 22\n",
    "username = \"reed\"\n",
    "password = thePass\n",
    "\n",
    "try:\n",
    "    ssh = paramiko.SSHClient()\n",
    "    ssh.set_missing_host_key_policy(paramiko.AutoAddPolicy())\n",
    "    ssh.connect(host, port, username, password)\n",
    "\n",
    "except paramiko.AuthenticationException:\n",
    "    print(\"Authentication failed.\")"
   ]
  },
  {
   "cell_type": "code",
   "execution_count": null,
   "metadata": {},
   "outputs": [],
   "source": [
    "# Create dictionary of commands to execute\n",
    "commands = {\n",
    "    \"section1\": [\"command1\", \"command2\", \"command3\"],\n",
    "    \"section2\": [\"command4\", \"command5\", \"command6\"],\n",
    "}"
   ]
  },
  {
   "cell_type": "code",
   "execution_count": 9,
   "metadata": {},
   "outputs": [],
   "source": [
    "# Loop through all commands, section and items\n",
    "for section, command_list in commands.items():\n",
    "    # Save the command section seperator to output file\n",
    "    with open(RESULTS_FILENAME, \"a\") as f:\n",
    "        f.write(\"+++ BEGIN SECTION \" + section + \" +++\\n\\n\")\n",
    "\n",
    "    # Loop through all commands in the section\n",
    "    for eachCMD in command_list:\n",
    "        # Get the output from the command\n",
    "        stdin, stdout, stderr = ssh.exec_command(eachCMD)\n",
    "\n",
    "        # Get results from stdout\n",
    "        lines = stdout.readlines()\n",
    "\n",
    "        # Convert the list to a string\n",
    "        output = \"\".join(lines)\n",
    "        # print(output)\n",
    "\n",
    "        # Header output\n",
    "        sepHeader = \"\" + \"### BEGIN \" + eachCMD + \" ###\\n\\n\"\n",
    "\n",
    "        # Footer\n",
    "        sepFooter = \"\" + \"### END \" + eachCMD + \" ###\\n\\n\"\n",
    "\n",
    "        # Concat the header, output, and footer\n",
    "        cmd_output = sepHeader + output + sepFooter\n",
    "\n",
    "        # Save the cmd_output to a file\n",
    "        with open(RESULTS_FILENAME, \"a\") as f:\n",
    "            f.write(cmd_output)\n",
    "    \n",
    "    # Save the command section seperator end to output file\n",
    "    with open(RESULTS_FILENAME, \"a\") as f:\n",
    "        f.write(\"+++ END SECTION \" + section + \" +++\\n\\n\")\n",
    "    \n",
    "# Close the connection\n",
    "ssh.close()"
   ]
  }
 ],
 "metadata": {
  "interpreter": {
   "hash": "2be5faf79681da6f2a61fdfdd5405d65d042280f7fba6178067603e3a2925119"
  },
  "kernelspec": {
   "display_name": "Python 3.10.2 64-bit",
   "language": "python",
   "name": "python3"
  },
  "language_info": {
   "codemirror_mode": {
    "name": "ipython",
    "version": 3
   },
   "file_extension": ".py",
   "mimetype": "text/x-python",
   "name": "python",
   "nbconvert_exporter": "python",
   "pygments_lexer": "ipython3",
   "version": "3.10.2"
  },
  "orig_nbformat": 4
 },
 "nbformat": 4,
 "nbformat_minor": 2
}
