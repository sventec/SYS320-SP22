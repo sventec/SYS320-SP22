{
 "cells": [
  {
   "cell_type": "code",
   "execution_count": 8,
   "metadata": {},
   "outputs": [],
   "source": [
    "import paramiko\n",
    "from getpass import getpass\n",
    "\n",
    "# Create the password prompt\n",
    "thePass = getpass(prompt=\"Please enter your SSH password: \")\n",
    "\n",
    "# Host information\n",
    "host = \"ubserv.fx.local\"\n",
    "port = 22\n",
    "username = \"reed\"\n",
    "password = thePass\n",
    "\n",
    "try:\n",
    "    ssh = paramiko.SSHClient()\n",
    "    ssh.set_missing_host_key_policy(paramiko.AutoAddPolicy())\n",
    "    ssh.connect(host, port, username, password)\n",
    "\n",
    "except paramiko.AuthenticationException:\n",
    "    print(\"Authentication failed.\")"
   ]
  },
  {
   "cell_type": "code",
   "execution_count": 9,
   "metadata": {},
   "outputs": [],
   "source": [
    "# Run a command\n",
    "# command = \"ps -ef\"\n",
    "\n",
    "# Run a list of commands\n",
    "command = [\"ps -ef\", \"netstat -an --inet\", \"last -adx\", \"cut -d: -f1 /etc/passwd\"]\n",
    "\n",
    "for eachCMD in command:\n",
    "    # Get the output from the command\n",
    "    stdin, stdout, stderr = ssh.exec_command(eachCMD)\n",
    "\n",
    "    # Get results from stdout\n",
    "    lines = stdout.readlines()\n",
    "\n",
    "    # Convert the list to a string\n",
    "    output = \"\".join(lines)\n",
    "    # print(output)\n",
    "\n",
    "    # Header output\n",
    "    sepHeader = \"\" + \"### BEGIN \" + eachCMD + \" ###\\n\\n\"\n",
    "\n",
    "    # Footer\n",
    "    sepFooter = \"\" + \"### END \" + eachCMD + \" ###\\n\\n\"\n",
    "\n",
    "    # Concat the header, output, and footer\n",
    "    cmd_output = sepHeader + output + sepFooter\n",
    "\n",
    "    # Save the cmd_output to a file\n",
    "    with open(\"ssh_results.txt\", \"a\") as f:\n",
    "        f.write(cmd_output)\n",
    "    \n",
    "# Close the connection\n",
    "ssh.close()"
   ]
  }
 ],
 "metadata": {
  "interpreter": {
   "hash": "2be5faf79681da6f2a61fdfdd5405d65d042280f7fba6178067603e3a2925119"
  },
  "kernelspec": {
   "display_name": "Python 3.10.2 64-bit",
   "language": "python",
   "name": "python3"
  },
  "language_info": {
   "codemirror_mode": {
    "name": "ipython",
    "version": 3
   },
   "file_extension": ".py",
   "mimetype": "text/x-python",
   "name": "python",
   "nbconvert_exporter": "python",
   "pygments_lexer": "ipython3",
   "version": "3.10.2"
  },
  "orig_nbformat": 4
 },
 "nbformat": 4,
 "nbformat_minor": 2
}
