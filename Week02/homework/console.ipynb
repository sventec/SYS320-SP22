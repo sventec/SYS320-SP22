{
 "cells": [
  {
   "cell_type": "code",
   "execution_count": 1,
   "metadata": {},
   "outputs": [
    {
     "data": {
      "text/plain": [
       "<module 'proxyLog' from 'd:\\\\school-files\\\\SYS320-SP22\\\\Week02\\\\homework\\\\proxyLog.py'>"
      ]
     },
     "execution_count": 1,
     "metadata": {},
     "output_type": "execute_result"
    }
   ],
   "source": [
    "import apacheLog, proxyLog\n",
    "import importlib\n",
    "importlib.reload(apacheLog)\n",
    "importlib.reload(proxyLog)"
   ]
  },
  {
   "cell_type": "markdown",
   "metadata": {},
   "source": [
    "# APACHE/PROXY LOG EVENTS"
   ]
  },
  {
   "cell_type": "markdown",
   "metadata": {},
   "source": [
    "## Apache Log Events"
   ]
  },
  {
   "cell_type": "code",
   "execution_count": 2,
   "metadata": {},
   "outputs": [
    {
     "name": "stdout",
     "output_type": "stream",
     "text": [
      "404 GET /mediawiki/index.php?title=Main_Page\n",
      "404 GET /wordpress/wp-login.php\n"
     ]
    }
   ],
   "source": [
    "apacheLog.apache_events(\"../../logs/access.log\", \"apache\", \"php\")"
   ]
  },
  {
   "cell_type": "code",
   "execution_count": 3,
   "metadata": {},
   "outputs": [
    {
     "name": "stdout",
     "output_type": "stream",
     "text": [
      "404 POST /cgi-bin/test-cgi\n",
      "404 GET /cgi-bin/htsearch?Exclude=%60/etc/passwd%60\n",
      "404 GET /cgi-bin/test-cgi\n"
     ]
    }
   ],
   "source": [
    "apacheLog.apache_events(\"../../logs/access.log\", \"apache\", \"cgi\")"
   ]
  },
  {
   "cell_type": "markdown",
   "metadata": {},
   "source": [
    "## Proxy Log Events"
   ]
  },
  {
   "cell_type": "markdown",
   "metadata": {},
   "source": [
    "### Proxy Bytes Tx/Rx (connection closed)"
   ]
  },
  {
   "cell_type": "code",
   "execution_count": 4,
   "metadata": {},
   "outputs": [
    {
     "name": "stdout",
     "output_type": "stream",
     "text": [
      "          QQ.exe | 6 bytes sent, 4 bytes (2.78 KB) received\n",
      "QQProtectUpd.exe | 1 bytes sent, 0 bytes received\n",
      "          QQ.exe | 7 bytes sent, 8 bytes received\n",
      "          QQ.exe | 6 bytes sent, 2 bytes (122 KB) received\n",
      "          QQ.exe | 0 bytes sent, 6 bytes (1.67 KB) received\n",
      "          QQ.exe | 0 bytes sent, 0 bytes received\n",
      "          QQ.exe | 3 bytes sent, 0 bytes received\n",
      "          QQ.exe | 9 bytes sent, 1 bytes received\n",
      "  QQExternal.exe | 4 bytes (1.60 KB) sent, 8 bytes received\n"
     ]
    }
   ],
   "source": [
    "proxyLog.proxy_bytes(\"../../logs/Proxifier_2k.log\", \"proxy\", \"closed\")"
   ]
  },
  {
   "cell_type": "markdown",
   "metadata": {},
   "source": [
    "### Proxy Opened Connections"
   ]
  },
  {
   "cell_type": "code",
   "execution_count": 5,
   "metadata": {},
   "outputs": [
    {
     "name": "stdout",
     "output_type": "stream",
     "text": [
      "      Executable |         Address          | Proxy\n",
      "          QQ.exe |  tcpconn.tencent.com:80  | proxy.cse.cuhk.edu.hk:5070\n",
      "          QQ.exe | tcpconn3.tencent.com:443 | proxy.cse.cuhk.edu.hk:5070\n",
      "          QQ.exe |   cgi.qqweb.qq.com:80    | proxy.cse.cuhk.edu.hk:5070\n",
      "          QQ.exe | tcpconn6.tencent.com:80  | proxy.cse.cuhk.edu.hk:5070\n",
      "QQProtectUpd.exe |   qdun-data.qq.com:443   | proxy.cse.cuhk.edu.hk:5070\n",
      "    QQPlayer.exe |     btrace.qq.com:80     | proxy.cse.cuhk.edu.hk:5070\n",
      "          QQ.exe | tcpconn6.tencent.com:443 | proxy.cse.cuhk.edu.hk:5070\n",
      "          QQ.exe |    183.60.49.182:443     | proxy.cse.cuhk.edu.hk:5070\n"
     ]
    }
   ],
   "source": [
    "proxyLog.proxy_opened(\"../../logs/Proxifier_2k.log\", \"proxy\", \"opened\")"
   ]
  }
 ],
 "metadata": {
  "interpreter": {
   "hash": "2be5faf79681da6f2a61fdfdd5405d65d042280f7fba6178067603e3a2925119"
  },
  "kernelspec": {
   "display_name": "Python 3.10.2 64-bit",
   "language": "python",
   "name": "python3"
  },
  "language_info": {
   "codemirror_mode": {
    "name": "ipython",
    "version": 3
   },
   "file_extension": ".py",
   "mimetype": "text/x-python",
   "name": "python",
   "nbconvert_exporter": "python",
   "pygments_lexer": "ipython3",
   "version": "3.8.12"
  },
  "orig_nbformat": 4
 },
 "nbformat": 4,
 "nbformat_minor": 2
}
